{
 "cells": [
  {
   "cell_type": "markdown",
   "id": "8dd85597-2b58-466a-a863-4535d7cebc67",
   "metadata": {},
   "source": [
    "# Ejercicio 3: Predicción del precio de casas – Regresión supervisada\n",
    "\n",
    "En este ejercicio abordaremos un problema de regresión supervisada usando un dataset real: el California Housing Dataset: \n",
    "https://scikit-learn.org/stable/modules/generated/sklearn.datasets.fetch_california_housing.html\n",
    "\n",
    "**1) Exploración y preprocesamiento:**\n"
   ]
  },
  {
   "cell_type": "code",
   "execution_count": 1,
   "id": "c8c5a82f-1182-4490-948e-e9b8629c1cb9",
   "metadata": {},
   "outputs": [],
   "source": [
    "# Importar librerías\n",
    "from sklearn.datasets import fetch_california_housing\n",
    "from sklearn.model_selection import train_test_split\n",
    "from sklearn.linear_model import LogisticRegression\n",
    "from sklearn.metrics import accuracy_score, confusion_matrix, classification_report\n",
    "import seaborn as sns\n",
    "import matplotlib.pyplot as plt\n",
    "import pandas as pd\n",
    "import numpy as np"
   ]
  },
  {
   "cell_type": "code",
   "execution_count": 2,
   "id": "05420a72-fea1-498e-9f43-f1a6cd708a7b",
   "metadata": {},
   "outputs": [
    {
     "data": {
      "text/html": [
       "<div>\n",
       "<style scoped>\n",
       "    .dataframe tbody tr th:only-of-type {\n",
       "        vertical-align: middle;\n",
       "    }\n",
       "\n",
       "    .dataframe tbody tr th {\n",
       "        vertical-align: top;\n",
       "    }\n",
       "\n",
       "    .dataframe thead th {\n",
       "        text-align: right;\n",
       "    }\n",
       "</style>\n",
       "<table border=\"1\" class=\"dataframe\">\n",
       "  <thead>\n",
       "    <tr style=\"text-align: right;\">\n",
       "      <th></th>\n",
       "      <th>MedInc</th>\n",
       "      <th>HouseAge</th>\n",
       "      <th>AveRooms</th>\n",
       "      <th>AveBedrms</th>\n",
       "      <th>Population</th>\n",
       "      <th>AveOccup</th>\n",
       "      <th>Latitude</th>\n",
       "      <th>Longitude</th>\n",
       "      <th>MedHouseVal</th>\n",
       "    </tr>\n",
       "  </thead>\n",
       "  <tbody>\n",
       "    <tr>\n",
       "      <th>0</th>\n",
       "      <td>8.3252</td>\n",
       "      <td>41.0</td>\n",
       "      <td>6.984127</td>\n",
       "      <td>1.023810</td>\n",
       "      <td>322.0</td>\n",
       "      <td>2.555556</td>\n",
       "      <td>37.88</td>\n",
       "      <td>-122.23</td>\n",
       "      <td>4.526</td>\n",
       "    </tr>\n",
       "    <tr>\n",
       "      <th>1</th>\n",
       "      <td>8.3014</td>\n",
       "      <td>21.0</td>\n",
       "      <td>6.238137</td>\n",
       "      <td>0.971880</td>\n",
       "      <td>2401.0</td>\n",
       "      <td>2.109842</td>\n",
       "      <td>37.86</td>\n",
       "      <td>-122.22</td>\n",
       "      <td>3.585</td>\n",
       "    </tr>\n",
       "    <tr>\n",
       "      <th>2</th>\n",
       "      <td>7.2574</td>\n",
       "      <td>52.0</td>\n",
       "      <td>8.288136</td>\n",
       "      <td>1.073446</td>\n",
       "      <td>496.0</td>\n",
       "      <td>2.802260</td>\n",
       "      <td>37.85</td>\n",
       "      <td>-122.24</td>\n",
       "      <td>3.521</td>\n",
       "    </tr>\n",
       "    <tr>\n",
       "      <th>3</th>\n",
       "      <td>5.6431</td>\n",
       "      <td>52.0</td>\n",
       "      <td>5.817352</td>\n",
       "      <td>1.073059</td>\n",
       "      <td>558.0</td>\n",
       "      <td>2.547945</td>\n",
       "      <td>37.85</td>\n",
       "      <td>-122.25</td>\n",
       "      <td>3.413</td>\n",
       "    </tr>\n",
       "    <tr>\n",
       "      <th>4</th>\n",
       "      <td>3.8462</td>\n",
       "      <td>52.0</td>\n",
       "      <td>6.281853</td>\n",
       "      <td>1.081081</td>\n",
       "      <td>565.0</td>\n",
       "      <td>2.181467</td>\n",
       "      <td>37.85</td>\n",
       "      <td>-122.25</td>\n",
       "      <td>3.422</td>\n",
       "    </tr>\n",
       "    <tr>\n",
       "      <th>...</th>\n",
       "      <td>...</td>\n",
       "      <td>...</td>\n",
       "      <td>...</td>\n",
       "      <td>...</td>\n",
       "      <td>...</td>\n",
       "      <td>...</td>\n",
       "      <td>...</td>\n",
       "      <td>...</td>\n",
       "      <td>...</td>\n",
       "    </tr>\n",
       "    <tr>\n",
       "      <th>20635</th>\n",
       "      <td>1.5603</td>\n",
       "      <td>25.0</td>\n",
       "      <td>5.045455</td>\n",
       "      <td>1.133333</td>\n",
       "      <td>845.0</td>\n",
       "      <td>2.560606</td>\n",
       "      <td>39.48</td>\n",
       "      <td>-121.09</td>\n",
       "      <td>0.781</td>\n",
       "    </tr>\n",
       "    <tr>\n",
       "      <th>20636</th>\n",
       "      <td>2.5568</td>\n",
       "      <td>18.0</td>\n",
       "      <td>6.114035</td>\n",
       "      <td>1.315789</td>\n",
       "      <td>356.0</td>\n",
       "      <td>3.122807</td>\n",
       "      <td>39.49</td>\n",
       "      <td>-121.21</td>\n",
       "      <td>0.771</td>\n",
       "    </tr>\n",
       "    <tr>\n",
       "      <th>20637</th>\n",
       "      <td>1.7000</td>\n",
       "      <td>17.0</td>\n",
       "      <td>5.205543</td>\n",
       "      <td>1.120092</td>\n",
       "      <td>1007.0</td>\n",
       "      <td>2.325635</td>\n",
       "      <td>39.43</td>\n",
       "      <td>-121.22</td>\n",
       "      <td>0.923</td>\n",
       "    </tr>\n",
       "    <tr>\n",
       "      <th>20638</th>\n",
       "      <td>1.8672</td>\n",
       "      <td>18.0</td>\n",
       "      <td>5.329513</td>\n",
       "      <td>1.171920</td>\n",
       "      <td>741.0</td>\n",
       "      <td>2.123209</td>\n",
       "      <td>39.43</td>\n",
       "      <td>-121.32</td>\n",
       "      <td>0.847</td>\n",
       "    </tr>\n",
       "    <tr>\n",
       "      <th>20639</th>\n",
       "      <td>2.3886</td>\n",
       "      <td>16.0</td>\n",
       "      <td>5.254717</td>\n",
       "      <td>1.162264</td>\n",
       "      <td>1387.0</td>\n",
       "      <td>2.616981</td>\n",
       "      <td>39.37</td>\n",
       "      <td>-121.24</td>\n",
       "      <td>0.894</td>\n",
       "    </tr>\n",
       "  </tbody>\n",
       "</table>\n",
       "<p>20640 rows × 9 columns</p>\n",
       "</div>"
      ],
      "text/plain": [
       "       MedInc  HouseAge  AveRooms  AveBedrms  Population  AveOccup  Latitude  \\\n",
       "0      8.3252      41.0  6.984127   1.023810       322.0  2.555556     37.88   \n",
       "1      8.3014      21.0  6.238137   0.971880      2401.0  2.109842     37.86   \n",
       "2      7.2574      52.0  8.288136   1.073446       496.0  2.802260     37.85   \n",
       "3      5.6431      52.0  5.817352   1.073059       558.0  2.547945     37.85   \n",
       "4      3.8462      52.0  6.281853   1.081081       565.0  2.181467     37.85   \n",
       "...       ...       ...       ...        ...         ...       ...       ...   \n",
       "20635  1.5603      25.0  5.045455   1.133333       845.0  2.560606     39.48   \n",
       "20636  2.5568      18.0  6.114035   1.315789       356.0  3.122807     39.49   \n",
       "20637  1.7000      17.0  5.205543   1.120092      1007.0  2.325635     39.43   \n",
       "20638  1.8672      18.0  5.329513   1.171920       741.0  2.123209     39.43   \n",
       "20639  2.3886      16.0  5.254717   1.162264      1387.0  2.616981     39.37   \n",
       "\n",
       "       Longitude  MedHouseVal  \n",
       "0        -122.23        4.526  \n",
       "1        -122.22        3.585  \n",
       "2        -122.24        3.521  \n",
       "3        -122.25        3.413  \n",
       "4        -122.25        3.422  \n",
       "...          ...          ...  \n",
       "20635    -121.09        0.781  \n",
       "20636    -121.21        0.771  \n",
       "20637    -121.22        0.923  \n",
       "20638    -121.32        0.847  \n",
       "20639    -121.24        0.894  \n",
       "\n",
       "[20640 rows x 9 columns]"
      ]
     },
     "execution_count": 2,
     "metadata": {},
     "output_type": "execute_result"
    }
   ],
   "source": [
    "data = fetch_california_housing(as_frame=True)\n",
    "df = data.frame\n",
    "df"
   ]
  },
  {
   "cell_type": "markdown",
   "id": "64eeb7fb-27e3-45a6-aa8d-b07cfc1c6fe5",
   "metadata": {},
   "source": [
    "**Explora los datos:**\n",
    "\n",
    "\n",
    "* ¿Cuántas observaciones y variables hay?\n",
    "  \n",
    "Son 20640 observaciones, con 8 variables que describen los datos.\n",
    "\n",
    "`MedInc` → Ingreso medio de los residentes en la zona (en decenas de miles de dólares).\n",
    "\n",
    "`HouseAge` → Edad promedio de las casas en la zona. \n",
    "\n",
    "`AveRooms` → Promedio de habitaciones por vivienda en la zona.\n",
    "\n",
    "`AveBedrms` → Promedio de dormitorios por vivienda en la zona.\n",
    "\n",
    "`Population` → Cantidad total de habitantes en la zona.\n",
    "\n",
    "`AveOccup` → Promedio de ocupantes por vivienda en la zona.\n",
    "\n",
    "`Latitude` → Latitud de la ubicación (posición geográfica).\n",
    "\n",
    "`Longitude` → Longitud de la ubicación (posición geográfica).\n",
    "\n",
    "`MedHouseVal` → Valor medio de las casas en la zona (variable objetivo).\n",
    "\n",
    "\n",
    "* ¿Cuál es la variable objetivo (target)?\n",
    "La variable objetivo, es decir, la variable que queremos predecir, sería MedHouseVal, esta nos permitiría analizar por ejemplo, a evaluar el mercado inmobiliario y realizar planificaciones.\n",
    "\n",
    "* ¿Hay valores faltantes?\n"
   ]
  },
  {
   "cell_type": "code",
   "execution_count": 9,
   "id": "f509f16f-cc9e-471c-863c-414fff36c5e1",
   "metadata": {},
   "outputs": [
    {
     "name": "stdout",
     "output_type": "stream",
     "text": [
      "Valores faltantes por columna:\n",
      " MedInc         0\n",
      "HouseAge       0\n",
      "AveRooms       0\n",
      "AveBedrms      0\n",
      "Population     0\n",
      "AveOccup       0\n",
      "Latitude       0\n",
      "Longitude      0\n",
      "MedHouseVal    0\n",
      "dtype: int64\n",
      "\n",
      "Valores cero por columna:\n",
      " MedInc         0\n",
      "HouseAge       0\n",
      "AveRooms       0\n",
      "AveBedrms      0\n",
      "Population     0\n",
      "AveOccup       0\n",
      "Latitude       0\n",
      "Longitude      0\n",
      "MedHouseVal    0\n",
      "dtype: int64\n"
     ]
    }
   ],
   "source": [
    "# Ver cuántos valores faltantes hay en cada columna\n",
    "print(\"Valores faltantes por columna:\\n\", df.isnull().sum())\n",
    "print(\"\\nValores cero por columna:\\n\", (df == 0).sum())  # Detecta cuántos ceros hay en cada columna\n"
   ]
  },
  {
   "cell_type": "markdown",
   "id": "8ccbc326-f099-4a90-a111-36578f0ecb0b",
   "metadata": {},
   "source": [
    "No hay valores nulos, ni con valor cero, por lo que no hace falta realizar medidas al respecto.\n",
    "\n",
    "* Analiza la distribución de las variables con df.describe() y visualizaciones."
   ]
  },
  {
   "cell_type": "code",
   "execution_count": 11,
   "id": "dc33fe9f-4c42-4920-8f86-f2572f5a6976",
   "metadata": {},
   "outputs": [
    {
     "data": {
      "text/html": [
       "<div>\n",
       "<style scoped>\n",
       "    .dataframe tbody tr th:only-of-type {\n",
       "        vertical-align: middle;\n",
       "    }\n",
       "\n",
       "    .dataframe tbody tr th {\n",
       "        vertical-align: top;\n",
       "    }\n",
       "\n",
       "    .dataframe thead th {\n",
       "        text-align: right;\n",
       "    }\n",
       "</style>\n",
       "<table border=\"1\" class=\"dataframe\">\n",
       "  <thead>\n",
       "    <tr style=\"text-align: right;\">\n",
       "      <th></th>\n",
       "      <th>MedInc</th>\n",
       "      <th>HouseAge</th>\n",
       "      <th>AveRooms</th>\n",
       "      <th>AveBedrms</th>\n",
       "      <th>Population</th>\n",
       "      <th>AveOccup</th>\n",
       "      <th>Latitude</th>\n",
       "      <th>Longitude</th>\n",
       "      <th>MedHouseVal</th>\n",
       "    </tr>\n",
       "  </thead>\n",
       "  <tbody>\n",
       "    <tr>\n",
       "      <th>count</th>\n",
       "      <td>20640.000000</td>\n",
       "      <td>20640.000000</td>\n",
       "      <td>20640.000000</td>\n",
       "      <td>20640.000000</td>\n",
       "      <td>20640.000000</td>\n",
       "      <td>20640.000000</td>\n",
       "      <td>20640.000000</td>\n",
       "      <td>20640.000000</td>\n",
       "      <td>20640.000000</td>\n",
       "    </tr>\n",
       "    <tr>\n",
       "      <th>mean</th>\n",
       "      <td>3.870671</td>\n",
       "      <td>28.639486</td>\n",
       "      <td>5.429000</td>\n",
       "      <td>1.096675</td>\n",
       "      <td>1425.476744</td>\n",
       "      <td>3.070655</td>\n",
       "      <td>35.631861</td>\n",
       "      <td>-119.569704</td>\n",
       "      <td>2.068558</td>\n",
       "    </tr>\n",
       "    <tr>\n",
       "      <th>std</th>\n",
       "      <td>1.899822</td>\n",
       "      <td>12.585558</td>\n",
       "      <td>2.474173</td>\n",
       "      <td>0.473911</td>\n",
       "      <td>1132.462122</td>\n",
       "      <td>10.386050</td>\n",
       "      <td>2.135952</td>\n",
       "      <td>2.003532</td>\n",
       "      <td>1.153956</td>\n",
       "    </tr>\n",
       "    <tr>\n",
       "      <th>min</th>\n",
       "      <td>0.499900</td>\n",
       "      <td>1.000000</td>\n",
       "      <td>0.846154</td>\n",
       "      <td>0.333333</td>\n",
       "      <td>3.000000</td>\n",
       "      <td>0.692308</td>\n",
       "      <td>32.540000</td>\n",
       "      <td>-124.350000</td>\n",
       "      <td>0.149990</td>\n",
       "    </tr>\n",
       "    <tr>\n",
       "      <th>25%</th>\n",
       "      <td>2.563400</td>\n",
       "      <td>18.000000</td>\n",
       "      <td>4.440716</td>\n",
       "      <td>1.006079</td>\n",
       "      <td>787.000000</td>\n",
       "      <td>2.429741</td>\n",
       "      <td>33.930000</td>\n",
       "      <td>-121.800000</td>\n",
       "      <td>1.196000</td>\n",
       "    </tr>\n",
       "    <tr>\n",
       "      <th>50%</th>\n",
       "      <td>3.534800</td>\n",
       "      <td>29.000000</td>\n",
       "      <td>5.229129</td>\n",
       "      <td>1.048780</td>\n",
       "      <td>1166.000000</td>\n",
       "      <td>2.818116</td>\n",
       "      <td>34.260000</td>\n",
       "      <td>-118.490000</td>\n",
       "      <td>1.797000</td>\n",
       "    </tr>\n",
       "    <tr>\n",
       "      <th>75%</th>\n",
       "      <td>4.743250</td>\n",
       "      <td>37.000000</td>\n",
       "      <td>6.052381</td>\n",
       "      <td>1.099526</td>\n",
       "      <td>1725.000000</td>\n",
       "      <td>3.282261</td>\n",
       "      <td>37.710000</td>\n",
       "      <td>-118.010000</td>\n",
       "      <td>2.647250</td>\n",
       "    </tr>\n",
       "    <tr>\n",
       "      <th>max</th>\n",
       "      <td>15.000100</td>\n",
       "      <td>52.000000</td>\n",
       "      <td>141.909091</td>\n",
       "      <td>34.066667</td>\n",
       "      <td>35682.000000</td>\n",
       "      <td>1243.333333</td>\n",
       "      <td>41.950000</td>\n",
       "      <td>-114.310000</td>\n",
       "      <td>5.000010</td>\n",
       "    </tr>\n",
       "  </tbody>\n",
       "</table>\n",
       "</div>"
      ],
      "text/plain": [
       "             MedInc      HouseAge      AveRooms     AveBedrms    Population  \\\n",
       "count  20640.000000  20640.000000  20640.000000  20640.000000  20640.000000   \n",
       "mean       3.870671     28.639486      5.429000      1.096675   1425.476744   \n",
       "std        1.899822     12.585558      2.474173      0.473911   1132.462122   \n",
       "min        0.499900      1.000000      0.846154      0.333333      3.000000   \n",
       "25%        2.563400     18.000000      4.440716      1.006079    787.000000   \n",
       "50%        3.534800     29.000000      5.229129      1.048780   1166.000000   \n",
       "75%        4.743250     37.000000      6.052381      1.099526   1725.000000   \n",
       "max       15.000100     52.000000    141.909091     34.066667  35682.000000   \n",
       "\n",
       "           AveOccup      Latitude     Longitude   MedHouseVal  \n",
       "count  20640.000000  20640.000000  20640.000000  20640.000000  \n",
       "mean       3.070655     35.631861   -119.569704      2.068558  \n",
       "std       10.386050      2.135952      2.003532      1.153956  \n",
       "min        0.692308     32.540000   -124.350000      0.149990  \n",
       "25%        2.429741     33.930000   -121.800000      1.196000  \n",
       "50%        2.818116     34.260000   -118.490000      1.797000  \n",
       "75%        3.282261     37.710000   -118.010000      2.647250  \n",
       "max     1243.333333     41.950000   -114.310000      5.000010  "
      ]
     },
     "execution_count": 11,
     "metadata": {},
     "output_type": "execute_result"
    }
   ],
   "source": [
    "df.describe()"
   ]
  },
  {
   "cell_type": "markdown",
   "id": "a006be2a-5770-4f23-8403-27953436d08d",
   "metadata": {},
   "source": [
    "# Análisis de los Histogramas del Dataset de Viviendas de California\n",
    "\n",
    "`HouseAge` (Edad promedio de las casas en la zona)\n",
    "\n",
    "Las edades de las casas tienen una distribución que va desde 1 año hasta 52 años, sin una tendencia muy clara de cocncentración, la información parece estar bastante distribuida en todas las edades.\n",
    "\n",
    "`AveRooms` (Promedio de habitaciones por vivienda en la zona)\n",
    "\n",
    "Muestra una distribución totalmente concentrada al lado izquierdo, la mayoria de viviendas tiene 4 a 6 habitaciones, sin embargo tambien hay valores bastante altos de hasta 141 habitaciones, esto podría implicar que existen valores atipicos en el dataset.\n",
    "\n",
    "`AveBedrms` (Promedio de dormitorios por vivienda en la zona)\n",
    "\n",
    "En promedio hay 1 dormitorio en las viviendas, esta muestra una distribución concentrada al lado izquierdo por lo que la mayoria de viviendas tendrían al rededor de 1 dormitorio en la vivienda, sin embargo tambien hay valores bastante altos al igual que el caso anterior, como 34 dormitorios, implicando que probablemente existen valores atipicos en el dataset.\n",
    "\n",
    "\n",
    "`Population` (Cantidad total de habitantes en la zona)\n",
    "\n",
    "Tambien presenta una concentración de la distribución hacia la dereha, con poblaciones menores a 1000 habitantes, hasta mayores a 1700 habitantes, existiendo valores como máximo 35.682 habitantes, indicando nuevamente la existencia de valores atipicos altos en el dataset. \n",
    "\n",
    "`AveOccup` (Promedio de ocupantes por vivienda en la zona)\n",
    "\n",
    "La cantidad de ocupantes por vivienda es desde 1 a 4 ocupantes, con casos extremos mayores a mil habitantes, estos casos podrían ser errores, o viviendas muy grandes como departamentos o similares.\n",
    "\n",
    "`Latitude` Latitud de la ubicación (posición geográfica)\n",
    "\n",
    "`Longitude` Longitud de la ubicación (posición geográfica).\n",
    "\n",
    "`MedHouseVal` Valor medio de las casas en la zona \n",
    "\n",
    "\n",
    "\n",
    "Copilot:\n",
    "\n",
    "7. Latitude/Longitude (Ubicación geográfica)\n",
    "- **Distribución**: No uniforme, refleja geografía de California\n",
    "- **Interpretación**:\n",
    "  - Picos en latitudes ~34°N y ~38°N (áreas metropolitanas)\n",
    "  - Longitudes muestran concentración cerca de la costa (-118° a -122°)\n",
    "- **Implicación**: Los valores de propiedad varían por ubicación\n",
    "\n",
    "8. MedHouseVal (Valor medio de vivienda)\n",
    "- **Distribución**: Probablemente multimodal\n",
    "- **Interpretación**:\n",
    "  - Picos alrededor de 0.5-1.5, 2.0-2.5 y 4.5-5.0\n",
    "  - Indica diferentes \"niveles\" de mercado inmobiliario\n",
    "- **Implicación**: Existencia de distintos segmentos de vivienda\n",
    "\n",
    " 1. MedInc (Ingreso medio)\n",
    "- **Distribución**: Probablemente asimétrica a la derecha\n",
    "- **Interpretación**: \n",
    "  - La mayoría de distritos tienen ingresos medios bajos (2-5 unidades)\n",
    "  - Pocos distritos con ingresos muy altos (>8 unidades)\n",
    "- **Implicación**: Existe desigualdad económica entre distritos\n",
    "\n",
    "\n",
    " Hallazgos clave:\n",
    "1. **Problemas de calidad de datos**: Variables como AveOccup y AveRooms muestran valores imposibles que requieren limpieza\n",
    "2. **Desigualdades económicas**: MedInc y MedHouseVal muestran distribuciones desiguales\n",
    "3. **Segmentación natural**: Algunas variables sugieren la existencia de subgrupos naturales en los datos\n",
    "4. **Relación geográfica**: Las coordenadas muestran patrones espaciales claros\n"
   ]
  },
  {
   "cell_type": "code",
   "execution_count": 21,
   "id": "495cd9d2-04c9-44a8-880b-0f13aa19e2f9",
   "metadata": {},
   "outputs": [
    {
     "data": {
      "image/png": "[encoded data removed]",
      "text/plain": [
       "<Figure size 1500x1200 with 9 Axes>"
      ]
     },
     "metadata": {},
     "output_type": "display_data"
    }
   ],
   "source": [
    "# Crea histogramas para todas las columnas numéricas del DataFrame\n",
    "\n",
    "df.hist(bins=50, figsize=(15,12)) # bins=50: Especifica el número de barras (contenedores) que tendrá cada histograma\n",
    "plt.suptitle(\"Distribución de las variables\")\n",
    "for ax in plt.gcf().axes:  # Recorre cada gráfico individual\n",
    "    ax.set_xlabel(\"Valor de la variable\")  # Eje X representa los valores de cada columna\n",
    "    ax.set_ylabel(\"Frecuencia\")  # Eje Y representa cuántas veces aparece cada valor\n",
    "plt.tight_layout()\n",
    "plt.show()"
   ]
  },
  {
   "cell_type": "markdown",
   "id": "d20011bd-69b6-4905-99e3-52c79e5a29b1",
   "metadata": {},
   "source": [
    "**Preprocesamiento:**\n",
    "\n",
    "\n",
    "Aplica escalado (por ejemplo, StandardScaler) a las características numéricas."
   ]
  },
  {
   "cell_type": "code",
   "execution_count": 3,
   "id": "e4d960d5-6cab-4c85-b0e2-eeed84d0cf45",
   "metadata": {},
   "outputs": [],
   "source": [
    "from sklearn.preprocessing import StandardScaler\n",
    "\n",
    "viviendas_E = StandardScaler().fit_transform(df)\n"
   ]
  },
  {
   "cell_type": "markdown",
   "id": "2bd4908a-a124-413f-ac92-6dba92432c32",
   "metadata": {},
   "source": [
    "**2) División de los datos**\n",
    "\n",
    "Divide el dataset en conjuntos de:\n",
    "\n",
    "Entrenamiento (60%)\n",
    "\n",
    "\n",
    "Validación (20%)\n",
    "\n",
    "\n",
    "Test (20%)\n",
    "\n",
    "\n",
    "Usa train_test_split() dos veces para lograr esta división.\n"
   ]
  },
  {
   "cell_type": "code",
   "execution_count": 4,
   "id": "87e134c7-0f9a-4125-8719-0edb45129f67",
   "metadata": {},
   "outputs": [],
   "source": [
    "from sklearn.model_selection import train_test_split\n",
    "\n",
    "# Transformamos a un dataframe de pandas\n",
    "viviendas = pd.DataFrame(viviendas_E, columns=df.columns)\n",
    "\n",
    "X = viviendas.drop(columns=['MedHouseVal'])\n",
    "y = viviendas['MedHouseVal']\n",
    "X_train, X_test, y_train, y_test = train_test_split(X, y, test_size=0.2, random_state=42)\n",
    "X_train, X_val, y_train, y_val = train_test_split(X_train, y_train, test_size=0.25, random_state=42)"
   ]
  },
  {
   "cell_type": "markdown",
   "id": "2541e394-c24b-4c4a-8484-b2aa2e357b8f",
   "metadata": {},
   "source": [
    "**3) Entrenamiento de modelos de regresión**\n",
    "\n",
    "Entrena y evalúa los siguientes modelos con los conjuntos de entrenamiento y validación:\n",
    "\n",
    "<h4>Modelo 1: Regresión Lineal</h4>\n",
    "\n",
    "\n",
    "Ajusta un modelo lineal con LinearRegression.\n",
    "\n",
    "\n",
    "¿Qué coeficientes obtiene para cada variable?\n",
    "\n"
   ]
  },
  {
   "cell_type": "code",
   "execution_count": 5,
   "id": "29948a96-a1e5-4253-9d4b-5d0d4c82c668",
   "metadata": {},
   "outputs": [],
   "source": [
    "from sklearn.linear_model import LinearRegression\n",
    "from sklearn.preprocessing import PolynomialFeatures\n",
    "from sklearn.tree import DecisionTreeRegressor\n",
    "from sklearn.ensemble import RandomForestRegressor, GradientBoostingRegressor\n",
    "from sklearn.metrics import mean_squared_error, mean_absolute_error, r2_score"
   ]
  },
  {
   "cell_type": "code",
   "execution_count": 19,
   "id": "d9261420-a29d-45bd-b8de-2322c607ebb9",
   "metadata": {},
   "outputs": [
    {
     "name": "stdout",
     "output_type": "stream",
     "text": [
      "MAE regresión lineal: 0.9782717498475603 \n",
      "\n",
      "Intercepto (b0): 0.001087554025765449\n",
      "\n",
      "Coeficientes:\n",
      "\n",
      "MedInc: 0.7501\n",
      "HouseAge: 0.1038\n",
      "AveRooms: -0.2894\n",
      "AveBedrms: 0.3541\n",
      "Population: -0.0082\n",
      "AveOccup: -0.0333\n",
      "Latitude: -0.7715\n",
      "Longitude: -0.7464\n"
     ]
    }
   ],
   "source": [
    "\n",
    "# Modelo de regresión lineal\n",
    "modelo_rl = LinearRegression()\n",
    "\n",
    "# Entrenar modelo regresión lineal\n",
    "modelo_rl.fit(X_train, y_train)\n",
    "\n",
    "# Predecir con validación\n",
    "y_pred_rl = modelo_rl.predict(X_val)\n",
    "\n",
    "# Evaluar (para este caso, utilizaremos MAE)\n",
    "mae_rl = mean_absolute_error(y_test, y_pred_rl)\n",
    "print(f\"MAE regresión lineal: {mae_rl} \\n\")\n",
    "    \n",
    "# Obtener coeficientes\n",
    "print(\"Intercepto (b0):\", modelo_rl.intercept_)\n",
    "print(\"\\nCoeficientes:\\n\")\n",
    "for nombre, coef in zip(X_train.columns, modelo_rl.coef_):\n",
    "    print(f\"{nombre}: {coef:.4f}\")\n"
   ]
  },
  {
   "cell_type": "markdown",
   "id": "c91814e4-aecd-4e99-a740-0d908c3046a8",
   "metadata": {},
   "source": [
    "\n",
    "**Intercepto:** Es el valor de MedHouseVal cuando todas las demás variables son 0.\n",
    "\n",
    "Los **coeficientes positivos** resultantes del modelo fueron: \n",
    "* MedInc: Ingreso medio de los residentes (el valor más alto)\n",
    "* HouseAge: Edad promedio de las casas\n",
    "* AveBedrms: Promedio de dormitorios por vivienda\n",
    "  \n",
    "-> Cuando el valor de estas variables aumenta, MedHouseVal, es decir, el valor medio de las casas  también **aumenta**. El valor de MedInc nos indica que el ingreso medio de los residentes tiene el mayor impacto en los precios de las viviendas.\n",
    "\n",
    "Los **coeficientes negativos** fueron:\n",
    "* AveRooms: Promedio de habitaciones por vivienda \n",
    "* Population: Cantidad total de habitantes\n",
    "* AveOccup: Promedio de ocupantes\n",
    "* Latitude (el valor más negativo)\n",
    "* Longitude\n",
    "\n",
    "-> Cuando el valor de estas variables aumenta, MedHouseVal, es decir, el valor medio de las casas **disminuye**.\n",
    "Curiosamente, contrario a lo esperado, viviendas con mayor cantidad de habitaciones no necesariamente son las más caras, por otro lado, tal como se suele pensar, la ubicación geográfica afecta significativamente el precio, esto podría deberse a que por ejemplo, viviendas más alejadas a ciudades sean más baratas."
   ]
  },
  {
   "cell_type": "markdown",
   "id": "b042f1d8-218a-4580-86b7-1df57d1af617",
   "metadata": {},
   "source": [
    "<h4>Modelo 2: Regresión Polinómica</h4>\n",
    "Usa PolynomialFeatures de grado 2 o 3.\n",
    "\n",
    "\n",
    "¿Mejora el rendimiento respecto a la regresión lineal?\n"
   ]
  },
  {
   "cell_type": "code",
   "execution_count": 20,
   "id": "b31c369f-219d-4a4d-acf6-768322ae9a0d",
   "metadata": {},
   "outputs": [
    {
     "name": "stdout",
     "output_type": "stream",
     "text": [
      "MAE regresión polinómica: 0.4093989751967993 \n",
      "\n",
      "MAE regresión lineal: 0.9782717498475603 \n",
      "\n"
     ]
    }
   ],
   "source": [
    "# Transformar variables para polinomial grado 2\n",
    "poly = PolynomialFeatures(degree=2)\n",
    "X_train_poly = poly.fit_transform(X_train)\n",
    "X_test_poly = poly.transform(X_test)\n",
    "\n",
    "# Entrenar regresión lineal con variables polinomiales\n",
    "poly_reg = LinearRegression()\n",
    "poly_reg.fit(X_train_poly, y_train)\n",
    "\n",
    "# Predecir\n",
    "y_pred_poly = poly_reg.predict(X_test_poly)\n",
    "\n",
    "# Evaluar (para este caso, utilizaremos MAE)\n",
    "mae_poly = mean_absolute_error(y_test, y_pred_poly)\n",
    "print(f\"MAE regresión polinómica: {mae_poly} \\n\")\n",
    "print(f\"MAE regresión lineal: {mae_rl} \\n\")"
   ]
  },
  {
   "cell_type": "markdown",
   "id": "3f457190-a1af-4989-a391-0a3d805f837b",
   "metadata": {},
   "source": [
    "Sabemos que para el error absoluto medio (MAE), los valores cercanos a cero indican un mejor desempeño, del resultado podemos observar que claramente **la regresión polinomial (RP) tiene un mejor rendimiento** respecto a la regresión lineal (RL), pues, RP obtuvo un MAE de 0.409, lo cual es significativamente menor que el 0.978 de la RL.\n",
    "\n",
    "Este resultado es esperable sabiendo que la RP es mucho más flexible que RL, por lo que teniendo cuidado con el grado para evitar un sobreajuste, este pudo captar de mejor manera las relaciones entre las variables, que el otro modelo el cual no logra capturar relaciones no lineales."
   ]
  },
  {
   "cell_type": "markdown",
   "id": "a361c26d-18e8-4ddc-bbf5-796a951df86b",
   "metadata": {},
   "source": [
    "##### Modelo 3: Árbol de decisión para regresión\n",
    "Usa DecisionTreeRegressor con una profundidad máxima (max_depth) controlada.\n",
    "\n",
    "\n",
    "¿El árbol sobreajusta o generaliza?\n"
   ]
  },
  {
   "cell_type": "code",
   "execution_count": 6,
   "id": "0e522c0a-7c18-4241-a0f8-235cb097481b",
   "metadata": {},
   "outputs": [
    {
     "name": "stdout",
     "output_type": "stream",
     "text": [
      "max_depth=2: MAE=0.5678\n",
      "max_depth=3: MAE=0.5283\n",
      "max_depth=4: MAE=0.4864\n",
      "max_depth=5: MAE=0.4556\n",
      "max_depth=6: MAE=0.4280\n",
      "max_depth=7: MAE=0.4044\n",
      "max_depth=8: MAE=0.3882\n",
      "max_depth=9: MAE=0.3766\n",
      "max_depth=10: MAE=0.3673\n",
      "max_depth=11: MAE=0.3618\n",
      "max_depth=12: MAE=0.3641\n",
      "max_depth=13: MAE=0.3658\n",
      "max_depth=14: MAE=0.3707\n",
      "max_depth=15: MAE=0.3745\n"
     ]
    }
   ],
   "source": [
    "for depth in range(2, 16):\n",
    "    arbol = DecisionTreeRegressor(max_depth=depth, random_state=42)\n",
    "    arbol.fit(X_train, y_train)\n",
    "    y_pred = arbol.predict(X_val)\n",
    "    mae = mean_absolute_error(y_val, y_pred)\n",
    "    print(f\"max_depth={depth}: MAE={mae:.4f}\")"
   ]
  },
  {
   "cell_type": "markdown",
   "id": "796cd98f",
   "metadata": {},
   "source": [
    "Con esto podemos utilizar el metodo del codo, dando que el punto donde deja de disminuir y el MAE es menor seria en max_depth 11"
   ]
  },
  {
   "cell_type": "code",
   "execution_count": 8,
   "id": "4737f52d",
   "metadata": {},
   "outputs": [
    {
     "name": "stdout",
     "output_type": "stream",
     "text": [
      "Entrenamiento:\n",
      "MAE: 0.2188\n",
      "MSE: 0.1105\n",
      "R²: 0.8889\n",
      "\n",
      "Test:\n",
      "MAE: 0.3657\n",
      "MSE: 0.3227\n",
      "R²: 0.6721\n"
     ]
    }
   ],
   "source": [
    "mejor_arbol = DecisionTreeRegressor(max_depth=11, random_state=42)\n",
    "mejor_arbol.fit(X_train, y_train)\n",
    "\n",
    "# Predecir en el conjunto de test\n",
    "from sklearn.metrics import mean_absolute_error, mean_squared_error, r2_score\n",
    "import numpy as np\n",
    "\n",
    "# Predicciones en entrenamiento y test\n",
    "y_train_pred = mejor_arbol.predict(X_train)\n",
    "y_test_pred = mejor_arbol.predict(X_test)\n",
    "\n",
    "# Errores en entrenamiento\n",
    "mae_train = mean_absolute_error(y_train, y_train_pred)\n",
    "mse_train = mean_squared_error(y_train, y_train_pred)\n",
    "r2_train = r2_score(y_train, y_train_pred)\n",
    "\n",
    "# Errores en test\n",
    "mae_test = mean_absolute_error(y_test, y_test_pred)\n",
    "mse_test = mean_squared_error(y_test, y_test_pred)\n",
    "r2_test = r2_score(y_test, y_test_pred)\n",
    "\n",
    "print(\"Entrenamiento:\")\n",
    "print(f\"MAE: {mae_train:.4f}\")\n",
    "print(f\"MSE: {mse_train:.4f}\")\n",
    "print(f\"R²: {r2_train:.4f}\")\n",
    "\n",
    "print(\"\\nTest:\")\n",
    "print(f\"MAE: {mae_test:.4f}\")\n",
    "print(f\"MSE: {mse_test:.4f}\")\n",
    "print(f\"R²: {r2_test:.4f}\")\n"
   ]
  },
  {
   "cell_type": "markdown",
   "id": "2f594c3a",
   "metadata": {},
   "source": [
    "El modelo debido a que si se compara el de entrenamiendo con el de prueba, se puede ver que existe un poco de sobreajuste, pero a su vez el desempeño muestra un poco de generalizacion\n",
    "\n",
    "\n",
    "\n",
    "-----------------"
   ]
  },
  {
   "cell_type": "markdown",
   "id": "44dec16f-1619-4ced-9cc6-c5ad27960cf9",
   "metadata": {},
   "source": [
    "Modelo 4: Random Forest Regressor\n",
    "Usa RandomForestRegressor con 100 árboles.\n",
    "\n",
    "\n",
    "¿Reduce el error comparado con un solo árbol?\n"
   ]
  },
  {
   "cell_type": "code",
   "execution_count": null,
   "id": "5adfe153-ba43-484f-8f70-519098b649eb",
   "metadata": {},
   "outputs": [
    {
     "name": "stdout",
     "output_type": "stream",
     "text": [
      "Random Forest (100 árboles):\n",
      "MAE: 0.2876\n",
      "MSE: 0.1945\n",
      "Árbol de Decisión (max_depth=11):\n",
      "MAE: 0.3657\n",
      "MSE: 0.3227\n"
     ]
    }
   ],
   "source": [
    "rf = RandomForestRegressor(n_estimators=100, random_state=42)\n",
    "rf.fit(X_train, y_train)\n",
    "\n",
    "# Predecir en el conjunto de test\n",
    "y_pred_rf = rf.predict(X_test)\n",
    "\n",
    "# Calcular métricas\n",
    "mae_rf = mean_absolute_error(y_test, y_pred_rf)\n",
    "mse_rf = mean_squared_error(y_test, y_pred_rf)\n",
    "r2_rf = r2_score(y_test, y_pred_rf)\n",
    "\n",
    "print(\"Random Forest (100 árboles):\")\n",
    "print(f\"MAE: {mae_rf:.4f}\")\n",
    "print(f\"MSE: {mse_rf:.4f}\")\n",
    "print(f\"R²: {r2_rf:.4f}\")\n",
    "\n",
    "# Solo un arbol\n",
    "arbol_rf = DecisionTreeRegressor(max_depth=11, random_state=42)\n",
    "arbol_rf.fit(X_train, y_train)\n",
    "\n",
    "# Predecir en el conjunto de test\n",
    "y_pred_arbol_rf = arbol_rf.predict(X_test)\n",
    "\n",
    "# Calcular métricas\n",
    "mae_arbol_rf = mean_absolute_error(y_test, y_pred_arbol_rf)\n",
    "mse_arbol_rf = mean_squared_error(y_test, y_pred_arbol_rf)\n",
    "r2_arbol_rf = r2_score(y_test, y_pred_arbol_rf)\n",
    "\n",
    "print(\"Árbol de Decisión (max_depth=11):\")\n",
    "print(f\"MAE: {mae_arbol_rf:.4f}\")\n",
    "print(f\"MSE: {mse_arbol_rf:.4f}\")\n",
    "print(f\"R²: {r2_arbol_rf:.4f}\")\n",
    "\n"
   ]
  },
  {
   "cell_type": "markdown",
   "id": "e3dfdf72",
   "metadata": {},
   "source": [
    "El uso de multiples arboles reduce el error considerablemente, osea qeu tiene una menor cantidad de errores\n",
    "\n",
    "\n",
    "\n",
    "-----------------"
   ]
  },
  {
   "cell_type": "markdown",
   "id": "dba2f261-ab5a-49aa-9eb6-e0be8a09075b",
   "metadata": {},
   "source": [
    "### Modelo 5: Gradient Boosting Regressor\n",
    "\n",
    "Usa GradientBoostingRegressor con parámetros por defecto.\n",
    "\n",
    "\n",
    "¿Es el modelo más preciso?"
   ]
  },
  {
   "cell_type": "code",
   "execution_count": 13,
   "id": "29fbb228-f478-4a68-96db-a1f9fb65e33b",
   "metadata": {},
   "outputs": [
    {
     "name": "stdout",
     "output_type": "stream",
     "text": [
      "Gradient Boosting:\n",
      "MAE: 0.3190\n",
      "MSE: 0.2174\n",
      "R²: 0.7791\n"
     ]
    }
   ],
   "source": [
    "gbs = GradientBoostingRegressor()\n",
    "gbs.fit(X_train, y_train)\n",
    "# Predecir en el conjunto de test\n",
    "y_pred_gbs = gbs.predict(X_test)\n",
    "# Calcular métricas\n",
    "mae_gbs = mean_absolute_error(y_test, y_pred_gbs)\n",
    "mse_gbs = mean_squared_error(y_test, y_pred_gbs)\n",
    "r2_gbs = r2_score(y_test, y_pred_gbs)\n",
    "print(\"Gradient Boosting:\")\n",
    "print(f\"MAE: {mae_gbs:.4f}\")\n",
    "print(f\"MSE: {mse_gbs:.4f}\")\n",
    "print(f\"R²: {r2_gbs:.4f}\")"
   ]
  },
  {
   "cell_type": "markdown",
   "id": "5892c55c",
   "metadata": {},
   "source": [
    "Debido a que el algoritmo gradient boosting regressor es el que tiene el menor error entre los distintos tipos de modelos, osea que tiene menor probabilidad de cometer errores cuando intenta predecir los valores"
   ]
  },
  {
   "cell_type": "markdown",
   "id": "1ad6806f-bcf2-4c56-8f08-b1d04424e706",
   "metadata": {},
   "source": [
    "**4) Evaluación de los modelos**\n",
    "\n",
    "\n",
    "Evalúa cada modelo con el conjunto de test utilizando las métricas de regresión:\n",
    "\n",
    "MAE (Mean Absolute Error)\n",
    "\n",
    "\n",
    "MSE (Mean Squared Error)\n",
    "\n",
    "\n",
    "RMSE (Root Mean Squared Error)\n",
    "\n",
    "\n",
    "R² (coeficiente de determinación)\n",
    "\n",
    "\n",
    "\n",
    "`Muestra un resumen comparativo en una tabla o gráfico.`\n"
   ]
  },
  {
   "cell_type": "code",
   "execution_count": 14,
   "id": "fbe5b8b7-e4b4-4070-837e-3c473bda7b33",
   "metadata": {},
   "outputs": [],
   "source": [
    "def evaluar_modelo(y_true, y_pred):\n",
    "    mse = mean_squared_error(y_true, y_pred)\n",
    "    rmse = np.sqrt(mse)\n",
    "    mae = mean_absolute_error(y_true, y_pred)\n",
    "    r2 = r2_score(y_true, y_pred)\n",
    "    print(f\"MSE: {mse:.4f}\")\n",
    "    print(f\"RMSE: {rmse:.4f}\")\n",
    "    print(f\"MAE: {mae:.4f}\")\n",
    "    print(f\"R²: {r2:.4f}\")\n",
    "\n",
    "# print(\"Evaluación Regresión Lineal:\")\n",
    "# evaluar_modelo(y_test, y_pred_lin)\n",
    "# print(\"\\nEvaluación Regresión Polinomial grado 3:\")\n",
    "# evaluar_modelo(y_test, y_pred_poly)"
   ]
  },
  {
   "cell_type": "markdown",
   "id": "848bbfc8-d471-44fb-b918-2d704b700760",
   "metadata": {},
   "source": [
    "<h4>Modelo 1: Regresión Lineal</h4>"
   ]
  },
  {
   "cell_type": "code",
   "execution_count": 21,
   "id": "22f397ba-20a1-4bc6-a853-751c642c458f",
   "metadata": {},
   "outputs": [
    {
     "name": "stdout",
     "output_type": "stream",
     "text": [
      "Resultados regresión lineal\n",
      "\n",
      "MSE: 1.6090\n",
      "RMSE: 1.2685\n",
      "MAE: 0.9783\n",
      "R²: -0.6350\n"
     ]
    }
   ],
   "source": [
    "print(\"Resultados regresión lineal\\n\")\n",
    "evaluar_modelo(y_test, y_pred_rl)"
   ]
  },
  {
   "cell_type": "markdown",
   "id": "63203f65-02ab-4c9d-a780-92270bf18bcd",
   "metadata": {},
   "source": [
    "<h4>Modelo 2: Regresión Polinómica</h4>"
   ]
  },
  {
   "cell_type": "code",
   "execution_count": 22,
   "id": "06f96377-f063-4ba9-bcc1-cdc2672f5d15",
   "metadata": {},
   "outputs": [
    {
     "name": "stdout",
     "output_type": "stream",
     "text": [
      "Resultados regresión polinómica\n",
      "\n",
      "MSE: 0.4033\n",
      "RMSE: 0.6351\n",
      "MAE: 0.4094\n",
      "R²: 0.5902\n"
     ]
    }
   ],
   "source": [
    "print(\"Resultados regresión polinómica\\n\")\n",
    "evaluar_modelo(y_test, y_pred_poly)"
   ]
  },
  {
   "cell_type": "markdown",
   "id": "ba18ff17",
   "metadata": {},
   "source": [
    "##### Modelo 3: Arbol de decision para regresion"
   ]
  },
  {
   "cell_type": "code",
   "execution_count": 15,
   "id": "92f4ffa2-fad1-4053-bfd9-47d18d9f86fa",
   "metadata": {},
   "outputs": [
    {
     "name": "stdout",
     "output_type": "stream",
     "text": [
      "Resultados árbol de decisión\n",
      "\n",
      "MSE: 0.3227\n",
      "RMSE: 0.5681\n",
      "MAE: 0.3657\n",
      "R²: 0.6721\n"
     ]
    }
   ],
   "source": [
    "print(\"Resultados árbol de decisión\\n\")\n",
    "evaluar_modelo(y_test, y_test_pred)"
   ]
  },
  {
   "cell_type": "markdown",
   "id": "92f0e537",
   "metadata": {},
   "source": [
    "##### Modelo 4: Random Forest Regressor"
   ]
  },
  {
   "cell_type": "code",
   "execution_count": 16,
   "id": "6ac54afe",
   "metadata": {},
   "outputs": [
    {
     "name": "stdout",
     "output_type": "stream",
     "text": [
      "Resultados random forest\n",
      "\n",
      "MSE: 0.1945\n",
      "RMSE: 0.4411\n",
      "MAE: 0.2876\n",
      "R²: 0.8023\n"
     ]
    }
   ],
   "source": [
    "print(\"Resultados random forest\\n\")\n",
    "evaluar_modelo(y_test, y_pred_rf)"
   ]
  },
  {
   "cell_type": "markdown",
   "id": "c6d7bf50",
   "metadata": {},
   "source": [
    "##### Modelo 5: Gradient Boosting Regressor"
   ]
  },
  {
   "cell_type": "code",
   "execution_count": 17,
   "id": "917a3ee5",
   "metadata": {},
   "outputs": [
    {
     "name": "stdout",
     "output_type": "stream",
     "text": [
      "Resultados gradient boosting\n",
      "\n",
      "MSE: 0.2174\n",
      "RMSE: 0.4662\n",
      "MAE: 0.3190\n",
      "R²: 0.7791\n"
     ]
    }
   ],
   "source": [
    "print(\"Resultados gradient boosting\\n\")\n",
    "evaluar_modelo(y_test, y_pred_gbs)"
   ]
  },
  {
   "cell_type": "markdown",
   "id": "b623fb9a",
   "metadata": {},
   "source": [
    "| Modelo                  | MAE    | MSE    | RMSE   | R²    | Observacion |\n",
    "|-------------------------|--------|--------|--------|-------|-------------|\n",
    "| Regresión Lineal        | 0.9783 | 1.6090 | 1.2685 |-0.6350|             |\n",
    "| Regresión Polinómica    | 0.4094 | 0.4033 | 0.6351 | 0.5902|             |\n",
    "| Árbol de Decisión       | 0.3657 | 0.3227 | 0.5682 | 0.6721|             |\n",
    "| Random Forest           | 0.2876 | 0.1945 | 0.4411 | 0.8023|             |\n",
    "| Gradient Boosting       | 0.3190 | 0.2174 | 0.4662 | 0.7791|             |\n"
   ]
  },
  {
   "cell_type": "markdown",
   "id": "694f6df1-4962-4f40-a3d8-60833224680f",
   "metadata": {},
   "source": [
    "**5) Análisis crítico y preguntas**\n",
    "\n",
    "Responde con tus observaciones:\n",
    "\n",
    "¿Qué modelo tuvo mejor desempeño? ¿Por qué?\n",
    "\n",
    "\n",
    "¿Qué variables parecen más relevantes para explicar el precio de la vivienda?\n",
    "\n",
    "\n",
    "¿Cuál modelo elegirías para explicar los resultados a un público general? ¿Por qué?\n",
    "\n",
    "\n",
    "¿Hay signos de overfitting en algunos modelos?\n",
    "\n",
    "\n",
    "¿Qué modelo ofrece el mejor compromiso entre interpretabilidad y precisión?"
   ]
  },
  {
   "cell_type": "code",
   "execution_count": null,
   "id": "6b58aaaa-afb0-48a7-9ba1-69f1f56f5555",
   "metadata": {},
   "outputs": [],
   "source": []
  }
 ],
 "metadata": {
  "kernelspec": {
   "display_name": "Python 3",
   "language": "python",
   "name": "python3"
  },
  "language_info": {
   "codemirror_mode": {
    "name": "ipython",
    "version": 3
   },
   "file_extension": ".py",
   "mimetype": "text/x-python",
   "name": "python",
   "nbconvert_exporter": "python",
   "pygments_lexer": "ipython3",
   "version": "3.11.9"
  }
 },
 "nbformat": 4,
 "nbformat_minor": 5
}
